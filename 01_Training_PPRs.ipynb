{
  "nbformat": 4,
  "nbformat_minor": 0,
  "metadata": {
    "colab": {
      "name": "01_Training_PPRs.ipynb",
      "provenance": [],
      "collapsed_sections": [],
      "toc_visible": true,
      "mount_file_id": "1Ru4qfH4K2URl5cYffSf8va1jLPWvB-oN",
      "authorship_tag": "ABX9TyNYLcck36gNVuPYTmPa6gJO",
      "include_colab_link": true
    },
    "kernelspec": {
      "name": "python3",
      "display_name": "Python 3"
    },
    "accelerator": "GPU"
  },
  "cells": [
    {
      "cell_type": "markdown",
      "metadata": {
        "id": "view-in-github",
        "colab_type": "text"
      },
      "source": [
        "<a href=\"https://colab.research.google.com/github/nicolaiberk/nlpdl_project/blob/main/01_Training_PPRs.ipynb\" target=\"_parent\"><img src=\"https://colab.research.google.com/assets/colab-badge.svg\" alt=\"Open In Colab\"/></a>"
      ]
    },
    {
      "cell_type": "code",
      "metadata": {
        "id": "AhX5n8FGOrfo"
      },
      "source": [
        "!pip install transformers\n",
        "!pip install torch\n",
        "!pip install sklearn\n",
        "\n",
        "# code is based on Hauke Licht's CAP Model (https://colab.research.google.com/drive/1n7yHr0-lq-hmsXe2sqxLUhq7_4ejLH9o?usp=sharing#scrollTo=CiaoE0V8XZc6)"
      ],
      "execution_count": null,
      "outputs": []
    },
    {
      "cell_type": "code",
      "metadata": {
        "id": "Ul9ImmixOk5S"
      },
      "source": [
        "# define model\n",
        "from transformers import BertForSequenceClassification\n",
        "checkpoint_model = 'distilbert-base-german-cased'\n",
        "model = BertForSequenceClassification.from_pretrained(checkpoint_model)\n",
        "model.train()"
      ],
      "execution_count": null,
      "outputs": []
    },
    {
      "cell_type": "code",
      "metadata": {
        "id": "ODmZRfMZPwpu"
      },
      "source": [
        "# load and prepare data\n",
        "import pandas as pd\n",
        "\n",
        "df = pd.read_csv('drive/MyDrive/germanyPPRs.csv', engine=\"python\")\n",
        "df = df.reset_index()\n",
        "df = df.dropna()\n",
        "# df = df.sample(1000) # drop this for full model\n",
        "df.date = pd.to_datetime([dt for dt in df.date], format='%Y-%m-%d')"
      ],
      "execution_count": 28,
      "outputs": []
    },
    {
      "cell_type": "code",
      "metadata": {
        "id": "ifxRS54cn2Wh"
      },
      "source": [
        "# restrict to press releases since 2013 to match newspaper data\n",
        "mindate = pd.to_datetime('2013-01-01', format='%Y-%m-%d')\n",
        "df = df[df.date >= mindate]"
      ],
      "execution_count": 29,
      "outputs": []
    },
    {
      "cell_type": "code",
      "metadata": {
        "id": "Dk42w-wJpoBz"
      },
      "source": [
        "# train-test split by date\n",
        "splitdate = pd.to_datetime('2018-01-01', format='%Y-%m-%d')\n",
        "train = df[df.date < splitdate]\n",
        "test = df[df.date >= splitdate]\n"
      ],
      "execution_count": 30,
      "outputs": []
    },
    {
      "cell_type": "code",
      "metadata": {
        "id": "jNzuQXSYlu0n"
      },
      "source": [
        "train_texts = list(train[\"text\"])\n",
        "train_labels = list(train[\"label\"])\n",
        "\n",
        "test_texts = list(test[\"text\"])\n",
        "test_labels = list(test[\"label\"])\n",
        "\n",
        "\n",
        "# there are probably better ways to do this\n",
        "ulabels = list(set(train_labels))\n",
        "train_label_dict = {}\n",
        "\n",
        "for i in range(len(ulabels)):\n",
        "  train_label_dict[str(ulabels[i])] = i\n",
        "\n",
        "train_labels = [train_label_dict[str(l)] for l in train_labels]\n",
        "\n",
        "\n",
        "# and for test set\n",
        "ulabels = list(set(test_labels))\n",
        "test_label_dict = {}\n",
        "\n",
        "for i in range(len(ulabels)):\n",
        "  test_label_dict[str(ulabels[i])] = i\n",
        "\n",
        "test_labels = [test_label_dict[str(l)] for l in test_labels]"
      ],
      "execution_count": 31,
      "outputs": []
    },
    {
      "cell_type": "code",
      "metadata": {
        "id": "adOc5Q09mLjS",
        "colab": {
          "base_uri": "https://localhost:8080/"
        },
        "outputId": "eed16d87-a549-4fe6-a1c0-94709d197a2e"
      },
      "source": [
        "from sklearn.model_selection import train_test_split\n",
        "train_texts, val_texts, train_labels, val_labels = train_test_split(train_texts, train_labels, test_size=.2, random_state=1234, stratify=train_labels)\n",
        "\n",
        "print(f\"No. obs    -- test: {len(test_labels)}; train: {len(train_labels)}; validation: {len(val_labels)};\")\n",
        "print(f\"No. labels -- test: {len(set(test_labels))}; train: {len(set(train_labels))}; validation: {len(set(val_labels))};\")"
      ],
      "execution_count": 32,
      "outputs": [
        {
          "output_type": "stream",
          "text": [
            "No. obs    -- test: 7052; train: 16522; validation: 4131;\n",
            "No. labels -- test: 6; train: 6; validation: 6;\n"
          ],
          "name": "stdout"
        }
      ]
    },
    {
      "cell_type": "code",
      "metadata": {
        "id": "PJASd879RNJo"
      },
      "source": [
        "# load the tokenizer \n",
        "from transformers import DistilBertTokenizerFast\n",
        "\n",
        "tokenizer = DistilBertTokenizerFast.from_pretrained(\"distilbert-base-german-cased\")\n",
        "\n",
        "# tokenize texts\n",
        "train_encodings = tokenizer(train_texts, truncation=True, padding=True)\n",
        "val_encodings = tokenizer(val_texts, truncation=True, padding=True)\n",
        "test_encodings = tokenizer(test_texts, truncation=True, padding=True)"
      ],
      "execution_count": 33,
      "outputs": []
    },
    {
      "cell_type": "code",
      "metadata": {
        "id": "PWvAdVf3nTwN"
      },
      "source": [
        "import torch\n",
        "class PPRDataset(torch.utils.data.Dataset):\n",
        "    def __init__(self, encodings, labels):\n",
        "        self.encodings = encodings\n",
        "        self.labels = labels\n",
        "\n",
        "    def __getitem__(self, idx):\n",
        "        item = {key: torch.tensor(val[idx]) for key, val in self.encodings.items()}\n",
        "        item['labels'] = torch.tensor(self.labels[idx])\n",
        "        return item\n",
        "\n",
        "    def __len__(self):\n",
        "        return len(self.labels)\n",
        "\n",
        "train_dataset = PPRDataset(train_encodings, train_labels)\n",
        "val_dataset = PPRDataset(val_encodings, val_labels)\n",
        "test_dataset = PPRDataset(test_encodings, test_labels)"
      ],
      "execution_count": 34,
      "outputs": []
    },
    {
      "cell_type": "code",
      "metadata": {
        "id": "FdswaNK6nZvE"
      },
      "source": [
        "def compute_metrics(pred):\n",
        "    labels = pred.label_ids\n",
        "    preds = pred.predictions.argmax(-1)\n",
        "    precision, recall, f1, n = precision_recall_fscore_support(labels, preds, average=None)\n",
        "    acc = accuracy_score(labels, preds)\n",
        "    return {\n",
        "        'accuracy': acc,\n",
        "        'f1': f1,\n",
        "        'precision': precision,\n",
        "        'recall': recall,\n",
        "        'n': n\n",
        "    }"
      ],
      "execution_count": 35,
      "outputs": []
    },
    {
      "cell_type": "code",
      "metadata": {
        "id": "qIANasZInmRi"
      },
      "source": [
        "from transformers import DistilBertForSequenceClassification, Trainer, TrainingArguments\n",
        "import os\n",
        "\n",
        "training_args = TrainingArguments(\n",
        "    # output directory\n",
        "    output_dir=os.path.join(\"trained\", \"distilbert_cased\", \"results\"),\n",
        "    # total number of training epochs\n",
        "    num_train_epochs=3,\n",
        "    # batch size per device during training\n",
        "    per_device_train_batch_size=16,\n",
        "    # batch size for evaluation\n",
        "    per_device_eval_batch_size=64,\n",
        "    # number of warmup steps for learning rate scheduler\n",
        "    warmup_steps=500,\n",
        "    # strength of weight decay\n",
        "    weight_decay=0.01,     \n",
        "    # directory for storing logs\n",
        "    logging_dir=os.path.join(\"trained\", \"distilbert_cased\", \"logs\"),            \n",
        "    logging_steps=250,\n",
        ")\n"
      ],
      "execution_count": 36,
      "outputs": []
    },
    {
      "cell_type": "code",
      "metadata": {
        "colab": {
          "base_uri": "https://localhost:8080/"
        },
        "id": "wB3yVob4noDR",
        "outputId": "803089ef-b87f-4af3-d50a-655adf78b23f"
      },
      "source": [
        "model = DistilBertForSequenceClassification.from_pretrained(\"distilbert-base-german-cased\", num_labels = len(set(test_labels)))\n",
        "\n",
        "trainer = Trainer(\n",
        "    model=model,\n",
        "    args=training_args,\n",
        "    compute_metrics=compute_metrics,\n",
        "    train_dataset=train_dataset,\n",
        "    eval_dataset=val_dataset\n",
        ")"
      ],
      "execution_count": 37,
      "outputs": [
        {
          "output_type": "stream",
          "text": [
            "Some weights of the model checkpoint at distilbert-base-german-cased were not used when initializing DistilBertForSequenceClassification: ['vocab_transform.weight', 'vocab_transform.bias', 'vocab_layer_norm.weight', 'vocab_layer_norm.bias', 'vocab_projector.weight', 'vocab_projector.bias']\n",
            "- This IS expected if you are initializing DistilBertForSequenceClassification from the checkpoint of a model trained on another task or with another architecture (e.g. initializing a BertForSequenceClassification model from a BertForPreTraining model).\n",
            "- This IS NOT expected if you are initializing DistilBertForSequenceClassification from the checkpoint of a model that you expect to be exactly identical (initializing a BertForSequenceClassification model from a BertForSequenceClassification model).\n",
            "Some weights of DistilBertForSequenceClassification were not initialized from the model checkpoint at distilbert-base-german-cased and are newly initialized: ['pre_classifier.weight', 'pre_classifier.bias', 'classifier.weight', 'classifier.bias']\n",
            "You should probably TRAIN this model on a down-stream task to be able to use it for predictions and inference.\n"
          ],
          "name": "stderr"
        }
      ]
    },
    {
      "cell_type": "code",
      "metadata": {
        "id": "SBpyijY2nzqE",
        "colab": {
          "base_uri": "https://localhost:8080/",
          "height": 490
        },
        "outputId": "1900ad89-f19a-4acb-d127-d3cd95f81ed2"
      },
      "source": [
        "trainer.train()"
      ],
      "execution_count": 38,
      "outputs": [
        {
          "output_type": "display_data",
          "data": {
            "text/html": [
              "\n",
              "    <div>\n",
              "        <style>\n",
              "            /* Turns off some styling */\n",
              "            progress {\n",
              "                /* gets rid of default border in Firefox and Opera. */\n",
              "                border: none;\n",
              "                /* Needs to be in here for Safari polyfill so background images work as expected. */\n",
              "                background-size: auto;\n",
              "            }\n",
              "        </style>\n",
              "      \n",
              "      <progress value='3099' max='3099' style='width:300px; height:20px; vertical-align: middle;'></progress>\n",
              "      [3099/3099 43:31, Epoch 3/3]\n",
              "    </div>\n",
              "    <table border=\"1\" class=\"dataframe\">\n",
              "  <thead>\n",
              "    <tr style=\"text-align: left;\">\n",
              "      <th>Step</th>\n",
              "      <th>Training Loss</th>\n",
              "    </tr>\n",
              "  </thead>\n",
              "  <tbody>\n",
              "    <tr>\n",
              "      <td>250</td>\n",
              "      <td>1.219700</td>\n",
              "    </tr>\n",
              "    <tr>\n",
              "      <td>500</td>\n",
              "      <td>0.143500</td>\n",
              "    </tr>\n",
              "    <tr>\n",
              "      <td>750</td>\n",
              "      <td>0.051000</td>\n",
              "    </tr>\n",
              "    <tr>\n",
              "      <td>1000</td>\n",
              "      <td>0.045300</td>\n",
              "    </tr>\n",
              "    <tr>\n",
              "      <td>1250</td>\n",
              "      <td>0.022800</td>\n",
              "    </tr>\n",
              "    <tr>\n",
              "      <td>1500</td>\n",
              "      <td>0.019300</td>\n",
              "    </tr>\n",
              "    <tr>\n",
              "      <td>1750</td>\n",
              "      <td>0.025700</td>\n",
              "    </tr>\n",
              "    <tr>\n",
              "      <td>2000</td>\n",
              "      <td>0.024400</td>\n",
              "    </tr>\n",
              "    <tr>\n",
              "      <td>2250</td>\n",
              "      <td>0.005900</td>\n",
              "    </tr>\n",
              "    <tr>\n",
              "      <td>2500</td>\n",
              "      <td>0.006300</td>\n",
              "    </tr>\n",
              "    <tr>\n",
              "      <td>2750</td>\n",
              "      <td>0.014900</td>\n",
              "    </tr>\n",
              "    <tr>\n",
              "      <td>3000</td>\n",
              "      <td>0.006200</td>\n",
              "    </tr>\n",
              "  </tbody>\n",
              "</table><p>"
            ],
            "text/plain": [
              "<IPython.core.display.HTML object>"
            ]
          },
          "metadata": {
            "tags": []
          }
        },
        {
          "output_type": "execute_result",
          "data": {
            "text/plain": [
              "TrainOutput(global_step=3099, training_loss=0.12846818071059465, metrics={'train_runtime': 2612.1121, 'train_samples_per_second': 1.186, 'total_flos': 1.0263315977367552e+16, 'epoch': 3.0, 'init_mem_cpu_alloc_delta': 4096, 'init_mem_gpu_alloc_delta': 270538240, 'init_mem_cpu_peaked_delta': 0, 'init_mem_gpu_peaked_delta': 0, 'train_mem_cpu_alloc_delta': -1900814336, 'train_mem_gpu_alloc_delta': 806192640, 'train_mem_cpu_peaked_delta': 1906405376, 'train_mem_gpu_peaked_delta': 6683248128})"
            ]
          },
          "metadata": {
            "tags": []
          },
          "execution_count": 38
        }
      ]
    },
    {
      "cell_type": "markdown",
      "metadata": {
        "id": "PYConwLvqzHy"
      },
      "source": [
        "## Validation performance"
      ]
    },
    {
      "cell_type": "code",
      "metadata": {
        "id": "UX8DWjgzn-8M",
        "colab": {
          "base_uri": "https://localhost:8080/",
          "height": 131
        },
        "outputId": "a5c6f0b7-8242-4e14-a3cf-61f8f1d678e5"
      },
      "source": [
        "from sklearn.metrics import accuracy_score, precision_recall_fscore_support\n",
        "eval_res = trainer.evaluate()"
      ],
      "execution_count": 39,
      "outputs": [
        {
          "output_type": "display_data",
          "data": {
            "text/html": [
              "\n",
              "    <div>\n",
              "        <style>\n",
              "            /* Turns off some styling */\n",
              "            progress {\n",
              "                /* gets rid of default border in Firefox and Opera. */\n",
              "                border: none;\n",
              "                /* Needs to be in here for Safari polyfill so background images work as expected. */\n",
              "                background-size: auto;\n",
              "            }\n",
              "        </style>\n",
              "      \n",
              "      <progress value='65' max='65' style='width:300px; height:20px; vertical-align: middle;'></progress>\n",
              "      [65/65 01:22]\n",
              "    </div>\n",
              "    "
            ],
            "text/plain": [
              "<IPython.core.display.HTML object>"
            ]
          },
          "metadata": {
            "tags": []
          }
        },
        {
          "output_type": "stream",
          "text": [
            "Trainer is attempting to log a value of \"[0.99594046 1.         0.99341624 0.9984472  0.99750125 0.99331104]\" of type <class 'numpy.ndarray'> for key \"eval/f1\" as a scalar. This invocation of Tensorboard's writer.add_scalar() is incorrect so we dropped this attribute.\n",
            "Trainer is attempting to log a value of \"[0.99594046 1.         0.99414348 1.         0.998      0.98671096]\" of type <class 'numpy.ndarray'> for key \"eval/precision\" as a scalar. This invocation of Tensorboard's writer.add_scalar() is incorrect so we dropped this attribute.\n",
            "Trainer is attempting to log a value of \"[0.99594046 1.         0.99269006 0.99689922 0.997003   1.        ]\" of type <class 'numpy.ndarray'> for key \"eval/recall\" as a scalar. This invocation of Tensorboard's writer.add_scalar() is incorrect so we dropped this attribute.\n",
            "Trainer is attempting to log a value of \"[ 739  765  684  645 1001  297]\" of type <class 'numpy.ndarray'> for key \"eval/n\" as a scalar. This invocation of Tensorboard's writer.add_scalar() is incorrect so we dropped this attribute.\n"
          ],
          "name": "stderr"
        }
      ]
    },
    {
      "cell_type": "code",
      "metadata": {
        "id": "cSSmTbf4i6fe"
      },
      "source": [
        "evaluated = pd.DataFrame()\n",
        "evaluated[\"label\"] = [v for k,v in train_label_dict.items()]\n",
        "evaluated[\"class\"] = [k for k,v in train_label_dict.items()]\n",
        "evaluated[\"f1\"] = eval_res[\"eval_f1\"]\n",
        "evaluated[\"precision\"] = eval_res[\"eval_precision\"]\n",
        "evaluated[\"recall\"] = eval_res[\"eval_recall\"]\n",
        "evaluated[\"n\"] = eval_res[\"eval_n\"]"
      ],
      "execution_count": 40,
      "outputs": []
    },
    {
      "cell_type": "code",
      "metadata": {
        "id": "3ZopkEiIoD9r",
        "colab": {
          "base_uri": "https://localhost:8080/",
          "height": 238
        },
        "outputId": "aca0ccda-5d89-4877-ccf6-642fcef12dd8"
      },
      "source": [
        "evaluated.sort_values(by=\"f1\", ascending=False)"
      ],
      "execution_count": 41,
      "outputs": [
        {
          "output_type": "execute_result",
          "data": {
            "text/html": [
              "<div>\n",
              "<style scoped>\n",
              "    .dataframe tbody tr th:only-of-type {\n",
              "        vertical-align: middle;\n",
              "    }\n",
              "\n",
              "    .dataframe tbody tr th {\n",
              "        vertical-align: top;\n",
              "    }\n",
              "\n",
              "    .dataframe thead th {\n",
              "        text-align: right;\n",
              "    }\n",
              "</style>\n",
              "<table border=\"1\" class=\"dataframe\">\n",
              "  <thead>\n",
              "    <tr style=\"text-align: right;\">\n",
              "      <th></th>\n",
              "      <th>label</th>\n",
              "      <th>class</th>\n",
              "      <th>f1</th>\n",
              "      <th>precision</th>\n",
              "      <th>recall</th>\n",
              "      <th>n</th>\n",
              "    </tr>\n",
              "  </thead>\n",
              "  <tbody>\n",
              "    <tr>\n",
              "      <th>1</th>\n",
              "      <td>1</td>\n",
              "      <td>SPD</td>\n",
              "      <td>1.000000</td>\n",
              "      <td>1.000000</td>\n",
              "      <td>1.000000</td>\n",
              "      <td>765</td>\n",
              "    </tr>\n",
              "    <tr>\n",
              "      <th>3</th>\n",
              "      <td>3</td>\n",
              "      <td>FDP</td>\n",
              "      <td>0.998447</td>\n",
              "      <td>1.000000</td>\n",
              "      <td>0.996899</td>\n",
              "      <td>645</td>\n",
              "    </tr>\n",
              "    <tr>\n",
              "      <th>4</th>\n",
              "      <td>4</td>\n",
              "      <td>Linke</td>\n",
              "      <td>0.997501</td>\n",
              "      <td>0.998000</td>\n",
              "      <td>0.997003</td>\n",
              "      <td>1001</td>\n",
              "    </tr>\n",
              "    <tr>\n",
              "      <th>0</th>\n",
              "      <td>0</td>\n",
              "      <td>Greens</td>\n",
              "      <td>0.995940</td>\n",
              "      <td>0.995940</td>\n",
              "      <td>0.995940</td>\n",
              "      <td>739</td>\n",
              "    </tr>\n",
              "    <tr>\n",
              "      <th>2</th>\n",
              "      <td>2</td>\n",
              "      <td>Union</td>\n",
              "      <td>0.993416</td>\n",
              "      <td>0.994143</td>\n",
              "      <td>0.992690</td>\n",
              "      <td>684</td>\n",
              "    </tr>\n",
              "    <tr>\n",
              "      <th>5</th>\n",
              "      <td>5</td>\n",
              "      <td>AfD</td>\n",
              "      <td>0.993311</td>\n",
              "      <td>0.986711</td>\n",
              "      <td>1.000000</td>\n",
              "      <td>297</td>\n",
              "    </tr>\n",
              "  </tbody>\n",
              "</table>\n",
              "</div>"
            ],
            "text/plain": [
              "   label   class        f1  precision    recall     n\n",
              "1      1     SPD  1.000000   1.000000  1.000000   765\n",
              "3      3     FDP  0.998447   1.000000  0.996899   645\n",
              "4      4   Linke  0.997501   0.998000  0.997003  1001\n",
              "0      0  Greens  0.995940   0.995940  0.995940   739\n",
              "2      2   Union  0.993416   0.994143  0.992690   684\n",
              "5      5     AfD  0.993311   0.986711  1.000000   297"
            ]
          },
          "metadata": {
            "tags": []
          },
          "execution_count": 41
        }
      ]
    },
    {
      "cell_type": "code",
      "metadata": {
        "id": "vX5e0NH9oGKx"
      },
      "source": [
        "trainer.save_model(os.path.join(\"drive\", \"MyDrive\", \"nlpdl\", \"01_PPR_model.bin\"))"
      ],
      "execution_count": 42,
      "outputs": []
    },
    {
      "cell_type": "markdown",
      "metadata": {
        "id": "0i2ZSDllqqdW"
      },
      "source": [
        "## Test set performance"
      ]
    },
    {
      "cell_type": "code",
      "metadata": {
        "colab": {
          "base_uri": "https://localhost:8080/",
          "height": 37
        },
        "id": "cH-y8XZHjyAE",
        "outputId": "db947578-5932-417d-ff70-6059aba49dd1"
      },
      "source": [
        "eval_res = trainer.predict(test_dataset)"
      ],
      "execution_count": 43,
      "outputs": [
        {
          "output_type": "display_data",
          "data": {
            "text/html": [
              "\n",
              "    <div>\n",
              "        <style>\n",
              "            /* Turns off some styling */\n",
              "            progress {\n",
              "                /* gets rid of default border in Firefox and Opera. */\n",
              "                border: none;\n",
              "                /* Needs to be in here for Safari polyfill so background images work as expected. */\n",
              "                background-size: auto;\n",
              "            }\n",
              "        </style>\n",
              "      \n",
              "      <progress value='176' max='65' style='width:300px; height:20px; vertical-align: middle;'></progress>\n",
              "      [65/65 06:59]\n",
              "    </div>\n",
              "    "
            ],
            "text/plain": [
              "<IPython.core.display.HTML object>"
            ]
          },
          "metadata": {
            "tags": []
          }
        }
      ]
    },
    {
      "cell_type": "code",
      "metadata": {
        "colab": {
          "base_uri": "https://localhost:8080/"
        },
        "id": "oW4JIQ_VIJqV",
        "outputId": "45a007b7-afde-4a2a-eb4e-2b908dc9e7aa"
      },
      "source": [
        "eval_res.metrics"
      ],
      "execution_count": 45,
      "outputs": [
        {
          "output_type": "execute_result",
          "data": {
            "text/plain": [
              "{'test_accuracy': 0.9906409529211572,\n",
              " 'test_f1': array([0.99513973, 0.98944193, 0.97905028, 0.99678457, 0.99149453,\n",
              "        0.98971112]),\n",
              " 'test_loss': 0.04879547655582428,\n",
              " 'test_mem_cpu_alloc_delta': 425984,\n",
              " 'test_mem_cpu_peaked_delta': 0,\n",
              " 'test_mem_gpu_alloc_delta': 0,\n",
              " 'test_mem_gpu_peaked_delta': 2618045952,\n",
              " 'test_n': array([ 820,  661,  706, 1090, 1228, 2547]),\n",
              " 'test_precision': array([0.99152542, 0.98646617, 0.96556474, 0.99816007, 0.98630137,\n",
              "        0.9976067 ]),\n",
              " 'test_recall': array([0.99878049, 0.9924357 , 0.99291785, 0.99541284, 0.99674267,\n",
              "        0.98193954]),\n",
              " 'test_runtime': 143.2269,\n",
              " 'test_samples_per_second': 49.237}"
            ]
          },
          "metadata": {
            "tags": []
          },
          "execution_count": 45
        }
      ]
    },
    {
      "cell_type": "code",
      "metadata": {
        "colab": {
          "base_uri": "https://localhost:8080/",
          "height": 238
        },
        "id": "sOFMYGIvp4Ic",
        "outputId": "88b37b6b-a5c8-4aa3-cc52-14828530cfa7"
      },
      "source": [
        "evaluated = pd.DataFrame()\n",
        "evaluated[\"label\"] = [v for k,v in test_label_dict.items()]\n",
        "evaluated[\"class\"] = [k for k,v in test_label_dict.items()]\n",
        "evaluated[\"f1\"] = eval_res.metrics[\"test_f1\"]\n",
        "evaluated[\"precision\"] = eval_res.metrics[\"test_precision\"]\n",
        "evaluated[\"recall\"] = eval_res.metrics[\"test_recall\"]\n",
        "evaluated[\"n\"] = eval_res.metrics[\"test_n\"]\n",
        "\n",
        "evaluated.sort_values(by=\"f1\", ascending=False)"
      ],
      "execution_count": 46,
      "outputs": [
        {
          "output_type": "execute_result",
          "data": {
            "text/html": [
              "<div>\n",
              "<style scoped>\n",
              "    .dataframe tbody tr th:only-of-type {\n",
              "        vertical-align: middle;\n",
              "    }\n",
              "\n",
              "    .dataframe tbody tr th {\n",
              "        vertical-align: top;\n",
              "    }\n",
              "\n",
              "    .dataframe thead th {\n",
              "        text-align: right;\n",
              "    }\n",
              "</style>\n",
              "<table border=\"1\" class=\"dataframe\">\n",
              "  <thead>\n",
              "    <tr style=\"text-align: right;\">\n",
              "      <th></th>\n",
              "      <th>label</th>\n",
              "      <th>class</th>\n",
              "      <th>f1</th>\n",
              "      <th>precision</th>\n",
              "      <th>recall</th>\n",
              "      <th>n</th>\n",
              "    </tr>\n",
              "  </thead>\n",
              "  <tbody>\n",
              "    <tr>\n",
              "      <th>3</th>\n",
              "      <td>3</td>\n",
              "      <td>FDP</td>\n",
              "      <td>0.996785</td>\n",
              "      <td>0.998160</td>\n",
              "      <td>0.995413</td>\n",
              "      <td>1090</td>\n",
              "    </tr>\n",
              "    <tr>\n",
              "      <th>0</th>\n",
              "      <td>0</td>\n",
              "      <td>Greens</td>\n",
              "      <td>0.995140</td>\n",
              "      <td>0.991525</td>\n",
              "      <td>0.998780</td>\n",
              "      <td>820</td>\n",
              "    </tr>\n",
              "    <tr>\n",
              "      <th>4</th>\n",
              "      <td>4</td>\n",
              "      <td>Linke</td>\n",
              "      <td>0.991495</td>\n",
              "      <td>0.986301</td>\n",
              "      <td>0.996743</td>\n",
              "      <td>1228</td>\n",
              "    </tr>\n",
              "    <tr>\n",
              "      <th>5</th>\n",
              "      <td>5</td>\n",
              "      <td>AfD</td>\n",
              "      <td>0.989711</td>\n",
              "      <td>0.997607</td>\n",
              "      <td>0.981940</td>\n",
              "      <td>2547</td>\n",
              "    </tr>\n",
              "    <tr>\n",
              "      <th>1</th>\n",
              "      <td>1</td>\n",
              "      <td>SPD</td>\n",
              "      <td>0.989442</td>\n",
              "      <td>0.986466</td>\n",
              "      <td>0.992436</td>\n",
              "      <td>661</td>\n",
              "    </tr>\n",
              "    <tr>\n",
              "      <th>2</th>\n",
              "      <td>2</td>\n",
              "      <td>Union</td>\n",
              "      <td>0.979050</td>\n",
              "      <td>0.965565</td>\n",
              "      <td>0.992918</td>\n",
              "      <td>706</td>\n",
              "    </tr>\n",
              "  </tbody>\n",
              "</table>\n",
              "</div>"
            ],
            "text/plain": [
              "   label   class        f1  precision    recall     n\n",
              "3      3     FDP  0.996785   0.998160  0.995413  1090\n",
              "0      0  Greens  0.995140   0.991525  0.998780   820\n",
              "4      4   Linke  0.991495   0.986301  0.996743  1228\n",
              "5      5     AfD  0.989711   0.997607  0.981940  2547\n",
              "1      1     SPD  0.989442   0.986466  0.992436   661\n",
              "2      2   Union  0.979050   0.965565  0.992918   706"
            ]
          },
          "metadata": {
            "tags": []
          },
          "execution_count": 46
        }
      ]
    },
    {
      "cell_type": "code",
      "metadata": {
        "id": "ozQ_m5QBEKoi",
        "colab": {
          "base_uri": "https://localhost:8080/",
          "height": 269
        },
        "outputId": "ce9381db-269d-487e-a1c1-3e5697f56d7f"
      },
      "source": [
        "pd.crosstab(eval_res.label_ids, eval_res.predictions.argmax(-1))"
      ],
      "execution_count": 47,
      "outputs": [
        {
          "output_type": "execute_result",
          "data": {
            "text/html": [
              "<div>\n",
              "<style scoped>\n",
              "    .dataframe tbody tr th:only-of-type {\n",
              "        vertical-align: middle;\n",
              "    }\n",
              "\n",
              "    .dataframe tbody tr th {\n",
              "        vertical-align: top;\n",
              "    }\n",
              "\n",
              "    .dataframe thead th {\n",
              "        text-align: right;\n",
              "    }\n",
              "</style>\n",
              "<table border=\"1\" class=\"dataframe\">\n",
              "  <thead>\n",
              "    <tr style=\"text-align: right;\">\n",
              "      <th>col_0</th>\n",
              "      <th>0</th>\n",
              "      <th>1</th>\n",
              "      <th>2</th>\n",
              "      <th>3</th>\n",
              "      <th>4</th>\n",
              "      <th>5</th>\n",
              "    </tr>\n",
              "    <tr>\n",
              "      <th>row_0</th>\n",
              "      <th></th>\n",
              "      <th></th>\n",
              "      <th></th>\n",
              "      <th></th>\n",
              "      <th></th>\n",
              "      <th></th>\n",
              "    </tr>\n",
              "  </thead>\n",
              "  <tbody>\n",
              "    <tr>\n",
              "      <th>0</th>\n",
              "      <td>819</td>\n",
              "      <td>0</td>\n",
              "      <td>1</td>\n",
              "      <td>0</td>\n",
              "      <td>0</td>\n",
              "      <td>0</td>\n",
              "    </tr>\n",
              "    <tr>\n",
              "      <th>1</th>\n",
              "      <td>0</td>\n",
              "      <td>656</td>\n",
              "      <td>2</td>\n",
              "      <td>0</td>\n",
              "      <td>2</td>\n",
              "      <td>1</td>\n",
              "    </tr>\n",
              "    <tr>\n",
              "      <th>2</th>\n",
              "      <td>2</td>\n",
              "      <td>1</td>\n",
              "      <td>701</td>\n",
              "      <td>0</td>\n",
              "      <td>0</td>\n",
              "      <td>2</td>\n",
              "    </tr>\n",
              "    <tr>\n",
              "      <th>3</th>\n",
              "      <td>2</td>\n",
              "      <td>0</td>\n",
              "      <td>3</td>\n",
              "      <td>1085</td>\n",
              "      <td>0</td>\n",
              "      <td>0</td>\n",
              "    </tr>\n",
              "    <tr>\n",
              "      <th>4</th>\n",
              "      <td>0</td>\n",
              "      <td>0</td>\n",
              "      <td>1</td>\n",
              "      <td>0</td>\n",
              "      <td>1224</td>\n",
              "      <td>3</td>\n",
              "    </tr>\n",
              "    <tr>\n",
              "      <th>5</th>\n",
              "      <td>3</td>\n",
              "      <td>8</td>\n",
              "      <td>18</td>\n",
              "      <td>2</td>\n",
              "      <td>15</td>\n",
              "      <td>2501</td>\n",
              "    </tr>\n",
              "  </tbody>\n",
              "</table>\n",
              "</div>"
            ],
            "text/plain": [
              "col_0    0    1    2     3     4     5\n",
              "row_0                                 \n",
              "0      819    0    1     0     0     0\n",
              "1        0  656    2     0     2     1\n",
              "2        2    1  701     0     0     2\n",
              "3        2    0    3  1085     0     0\n",
              "4        0    0    1     0  1224     3\n",
              "5        3    8   18     2    15  2501"
            ]
          },
          "metadata": {
            "tags": []
          },
          "execution_count": 47
        }
      ]
    }
  ]
}