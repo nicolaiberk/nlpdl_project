{
  "nbformat": 4,
  "nbformat_minor": 0,
  "metadata": {
    "colab": {
      "name": "BaselineBERT_text.ipynb",
      "provenance": [],
      "collapsed_sections": [],
      "mount_file_id": "1ltzJpDkJpYaB6Qy7hY09uDca-7R6z-Y5",
      "authorship_tag": "ABX9TyMFgWh9ujwXmXVB1omRwRrJ",
      "include_colab_link": true
    },
    "kernelspec": {
      "name": "python3",
      "display_name": "Python 3"
    },
    "accelerator": "GPU"
  },
  "cells": [
    {
      "cell_type": "markdown",
      "metadata": {
        "id": "view-in-github",
        "colab_type": "text"
      },
      "source": [
        "<a href=\"https://colab.research.google.com/github/nicolaiberk/nlpdl_project/blob/main/BaselineBERT.ipynb\" target=\"_parent\"><img src=\"https://colab.research.google.com/assets/colab-badge.svg\" alt=\"Open In Colab\"/></a>"
      ]
    },
    {
      "cell_type": "code",
      "metadata": {
        "id": "AhX5n8FGOrfo"
      },
      "source": [
        "!pip install transformers\r\n",
        "!pip install torch\r\n",
        "!pip install sklearn\r\n",
        "\r\n",
        "# code is based on Hauke Licht's CAP Model (https://colab.research.google.com/drive/1n7yHr0-lq-hmsXe2sqxLUhq7_4ejLH9o?usp=sharing#scrollTo=CiaoE0V8XZc6)"
      ],
      "execution_count": null,
      "outputs": []
    },
    {
      "cell_type": "code",
      "metadata": {
        "id": "Ul9ImmixOk5S"
      },
      "source": [
        "# define model\r\n",
        "from transformers import BertForSequenceClassification\r\n",
        "checkpoint_model = 'distilbert-base-german-cased'\r\n",
        "model = BertForSequenceClassification.from_pretrained(checkpoint_model)\r\n",
        "model.train()"
      ],
      "execution_count": null,
      "outputs": []
    },
    {
      "cell_type": "code",
      "metadata": {
        "id": "ODmZRfMZPwpu"
      },
      "source": [
        "# load and prepare data\r\n",
        "import pandas as pd\r\n",
        "\r\n",
        "df = pd.read_csv('drive/MyDrive/germanyPPRs.csv', engine=\"python\")\r\n",
        "df = df.reset_index()\r\n",
        "df = df.dropna()\r\n",
        "# df = df.sample(1000) # drop this for full model\r\n",
        "df.date = pd.to_datetime([dt for dt in df.date], format='%Y-%m-%d')"
      ],
      "execution_count": 3,
      "outputs": []
    },
    {
      "cell_type": "code",
      "metadata": {
        "id": "jNzuQXSYlu0n"
      },
      "source": [
        "texts = list(df[\"text\"])\r\n",
        "labels = list(df[\"label\"])\r\n",
        "\r\n",
        "# there are probably better ways to do this\r\n",
        "ulabels = list(set(labels))\r\n",
        "label_dict = {}\r\n",
        "\r\n",
        "for i in range(len(ulabels)):\r\n",
        "  label_dict[str(ulabels[i])] = i\r\n",
        "\r\n",
        "labels = [label_dict[str(l)] for l in labels]"
      ],
      "execution_count": 4,
      "outputs": []
    },
    {
      "cell_type": "code",
      "metadata": {
        "id": "adOc5Q09mLjS",
        "colab": {
          "base_uri": "https://localhost:8080/"
        },
        "outputId": "3ce71537-abeb-44bf-e255-e451a8341940"
      },
      "source": [
        "from sklearn.model_selection import train_test_split\r\n",
        "train_texts, test_texts, train_labels, test_labels = train_test_split(texts, labels, test_size=.2, random_state=1234, stratify=labels)\r\n",
        "train_texts, val_texts, train_labels, val_labels = train_test_split(train_texts, train_labels, test_size=.2, random_state=1234, stratify=train_labels)\r\n",
        "\r\n",
        "print(f\"No. obs    -- test: {len(test_labels)}; train: {len(train_labels)}; validation: {len(val_labels)};\")\r\n",
        "print(f\"No. labels -- test: {len(set(test_labels))}; train: {len(set(train_labels))}; validation: {len(set(val_labels))};\")"
      ],
      "execution_count": 5,
      "outputs": [
        {
          "output_type": "stream",
          "text": [
            "No. obs    -- test: 9267; train: 29652; validation: 7413;\n",
            "No. labels -- test: 6; train: 6; validation: 6;\n"
          ],
          "name": "stdout"
        }
      ]
    },
    {
      "cell_type": "code",
      "metadata": {
        "id": "PJASd879RNJo"
      },
      "source": [
        "# load the tokenizer \r\n",
        "from transformers import DistilBertTokenizerFast\r\n",
        "\r\n",
        "tokenizer = DistilBertTokenizerFast.from_pretrained(\"distilbert-base-german-cased\")\r\n",
        "\r\n",
        "# tokenize texts\r\n",
        "train_encodings = tokenizer(train_texts, truncation=True, padding=True)\r\n",
        "val_encodings = tokenizer(val_texts, truncation=True, padding=True)\r\n",
        "test_encodings = tokenizer(test_texts, truncation=True, padding=True)"
      ],
      "execution_count": null,
      "outputs": []
    },
    {
      "cell_type": "code",
      "metadata": {
        "id": "PWvAdVf3nTwN"
      },
      "source": [
        "import torch\r\n",
        "class PPRDataset(torch.utils.data.Dataset):\r\n",
        "    def __init__(self, encodings, labels):\r\n",
        "        self.encodings = encodings\r\n",
        "        self.labels = labels\r\n",
        "\r\n",
        "    def __getitem__(self, idx):\r\n",
        "        item = {key: torch.tensor(val[idx]) for key, val in self.encodings.items()}\r\n",
        "        item['labels'] = torch.tensor(self.labels[idx])\r\n",
        "        return item\r\n",
        "\r\n",
        "    def __len__(self):\r\n",
        "        return len(self.labels)\r\n",
        "\r\n",
        "train_dataset = PPRDataset(train_encodings, train_labels)\r\n",
        "val_dataset = PPRDataset(val_encodings, val_labels)\r\n",
        "test_dataset = PPRDataset(test_encodings, test_labels)"
      ],
      "execution_count": 7,
      "outputs": []
    },
    {
      "cell_type": "code",
      "metadata": {
        "id": "FdswaNK6nZvE"
      },
      "source": [
        "def compute_metrics(pred):\r\n",
        "    labels = pred.label_ids\r\n",
        "    preds = pred.predictions.argmax(-1)\r\n",
        "    precision, recall, f1, n = precision_recall_fscore_support(labels, preds, average=None)\r\n",
        "    acc = accuracy_score(labels, preds)\r\n",
        "    return {\r\n",
        "        'accuracy': acc,\r\n",
        "        'f1': f1,\r\n",
        "        'precision': precision,\r\n",
        "        'recall': recall,\r\n",
        "        'n': n\r\n",
        "    }"
      ],
      "execution_count": 8,
      "outputs": []
    },
    {
      "cell_type": "code",
      "metadata": {
        "id": "qIANasZInmRi"
      },
      "source": [
        "from transformers import DistilBertForSequenceClassification, Trainer, TrainingArguments\r\n",
        "import os\r\n",
        "\r\n",
        "training_args = TrainingArguments(\r\n",
        "    # output directory\r\n",
        "    output_dir=os.path.join(\"trained\", \"distilbert_cased\", \"results\"),\r\n",
        "    # total number of training epochs\r\n",
        "    num_train_epochs=3,\r\n",
        "    # batch size per device during training\r\n",
        "    per_device_train_batch_size=16,\r\n",
        "    # batch size for evaluation\r\n",
        "    per_device_eval_batch_size=64,\r\n",
        "    # number of warmup steps for learning rate scheduler\r\n",
        "    warmup_steps=500,\r\n",
        "    # strength of weight decay\r\n",
        "    weight_decay=0.01,     \r\n",
        "    # directory for storing logs\r\n",
        "    logging_dir=os.path.join(\"trained\", \"distilbert_cased\", \"logs\"),            \r\n",
        "    logging_steps=250,\r\n",
        ")\r\n"
      ],
      "execution_count": 9,
      "outputs": []
    },
    {
      "cell_type": "code",
      "metadata": {
        "colab": {
          "base_uri": "https://localhost:8080/"
        },
        "id": "wB3yVob4noDR",
        "outputId": "63cc450c-4ba4-4335-b0e8-d1bd209d3f82"
      },
      "source": [
        "model = DistilBertForSequenceClassification.from_pretrained(\"distilbert-base-german-cased\", num_labels = len(set(test_labels)))\r\n",
        "\r\n",
        "trainer = Trainer(\r\n",
        "    model=model,\r\n",
        "    args=training_args,\r\n",
        "    compute_metrics=compute_metrics,\r\n",
        "    train_dataset=train_dataset,\r\n",
        "    eval_dataset=val_dataset\r\n",
        ")"
      ],
      "execution_count": 10,
      "outputs": [
        {
          "output_type": "stream",
          "text": [
            "Some weights of the model checkpoint at distilbert-base-german-cased were not used when initializing DistilBertForSequenceClassification: ['vocab_transform.weight', 'vocab_transform.bias', 'vocab_layer_norm.weight', 'vocab_layer_norm.bias', 'vocab_projector.weight', 'vocab_projector.bias']\n",
            "- This IS expected if you are initializing DistilBertForSequenceClassification from the checkpoint of a model trained on another task or with another architecture (e.g. initializing a BertForSequenceClassification model from a BertForPreTraining model).\n",
            "- This IS NOT expected if you are initializing DistilBertForSequenceClassification from the checkpoint of a model that you expect to be exactly identical (initializing a BertForSequenceClassification model from a BertForSequenceClassification model).\n",
            "Some weights of DistilBertForSequenceClassification were not initialized from the model checkpoint at distilbert-base-german-cased and are newly initialized: ['pre_classifier.weight', 'pre_classifier.bias', 'classifier.weight', 'classifier.bias']\n",
            "You should probably TRAIN this model on a down-stream task to be able to use it for predictions and inference.\n"
          ],
          "name": "stderr"
        }
      ]
    },
    {
      "cell_type": "code",
      "metadata": {
        "id": "SBpyijY2nzqE",
        "colab": {
          "base_uri": "https://localhost:8080/",
          "height": 804
        },
        "outputId": "97d41962-e120-4029-acdc-92958ac41e27"
      },
      "source": [
        "trainer.train()"
      ],
      "execution_count": 11,
      "outputs": [
        {
          "output_type": "display_data",
          "data": {
            "text/html": [
              "\n",
              "    <div>\n",
              "        <style>\n",
              "            /* Turns off some styling */\n",
              "            progress {\n",
              "                /* gets rid of default border in Firefox and Opera. */\n",
              "                border: none;\n",
              "                /* Needs to be in here for Safari polyfill so background images work as expected. */\n",
              "                background-size: auto;\n",
              "            }\n",
              "        </style>\n",
              "      \n",
              "      <progress value='5562' max='5562' style='width:300px; height:20px; vertical-align: middle;'></progress>\n",
              "      [5562/5562 1:15:23, Epoch 3/3]\n",
              "    </div>\n",
              "    <table border=\"1\" class=\"dataframe\">\n",
              "  <thead>\n",
              "    <tr style=\"text-align: left;\">\n",
              "      <th>Step</th>\n",
              "      <th>Training Loss</th>\n",
              "    </tr>\n",
              "  </thead>\n",
              "  <tbody>\n",
              "    <tr>\n",
              "      <td>250</td>\n",
              "      <td>1.330600</td>\n",
              "    </tr>\n",
              "    <tr>\n",
              "      <td>500</td>\n",
              "      <td>0.146900</td>\n",
              "    </tr>\n",
              "    <tr>\n",
              "      <td>750</td>\n",
              "      <td>0.061600</td>\n",
              "    </tr>\n",
              "    <tr>\n",
              "      <td>1000</td>\n",
              "      <td>0.055500</td>\n",
              "    </tr>\n",
              "    <tr>\n",
              "      <td>1250</td>\n",
              "      <td>0.046900</td>\n",
              "    </tr>\n",
              "    <tr>\n",
              "      <td>1500</td>\n",
              "      <td>0.053100</td>\n",
              "    </tr>\n",
              "    <tr>\n",
              "      <td>1750</td>\n",
              "      <td>0.040700</td>\n",
              "    </tr>\n",
              "    <tr>\n",
              "      <td>2000</td>\n",
              "      <td>0.039200</td>\n",
              "    </tr>\n",
              "    <tr>\n",
              "      <td>2250</td>\n",
              "      <td>0.028500</td>\n",
              "    </tr>\n",
              "    <tr>\n",
              "      <td>2500</td>\n",
              "      <td>0.019600</td>\n",
              "    </tr>\n",
              "    <tr>\n",
              "      <td>2750</td>\n",
              "      <td>0.016600</td>\n",
              "    </tr>\n",
              "    <tr>\n",
              "      <td>3000</td>\n",
              "      <td>0.019800</td>\n",
              "    </tr>\n",
              "    <tr>\n",
              "      <td>3250</td>\n",
              "      <td>0.016800</td>\n",
              "    </tr>\n",
              "    <tr>\n",
              "      <td>3500</td>\n",
              "      <td>0.017900</td>\n",
              "    </tr>\n",
              "    <tr>\n",
              "      <td>3750</td>\n",
              "      <td>0.020300</td>\n",
              "    </tr>\n",
              "    <tr>\n",
              "      <td>4000</td>\n",
              "      <td>0.005700</td>\n",
              "    </tr>\n",
              "    <tr>\n",
              "      <td>4250</td>\n",
              "      <td>0.012300</td>\n",
              "    </tr>\n",
              "    <tr>\n",
              "      <td>4500</td>\n",
              "      <td>0.009100</td>\n",
              "    </tr>\n",
              "    <tr>\n",
              "      <td>4750</td>\n",
              "      <td>0.004600</td>\n",
              "    </tr>\n",
              "    <tr>\n",
              "      <td>5000</td>\n",
              "      <td>0.008800</td>\n",
              "    </tr>\n",
              "    <tr>\n",
              "      <td>5250</td>\n",
              "      <td>0.011900</td>\n",
              "    </tr>\n",
              "    <tr>\n",
              "      <td>5500</td>\n",
              "      <td>0.008200</td>\n",
              "    </tr>\n",
              "  </tbody>\n",
              "</table><p>"
            ],
            "text/plain": [
              "<IPython.core.display.HTML object>"
            ]
          },
          "metadata": {
            "tags": []
          }
        },
        {
          "output_type": "execute_result",
          "data": {
            "text/plain": [
              "TrainOutput(global_step=5562, training_loss=0.08880089184805799, metrics={'train_runtime': 4524.8612, 'train_samples_per_second': 1.229, 'total_flos': 1.841955243680563e+16, 'epoch': 3.0, 'init_mem_cpu_alloc_delta': 326657, 'init_mem_gpu_alloc_delta': 271062528, 'init_mem_cpu_peaked_delta': 18306, 'init_mem_gpu_peaked_delta': 0, 'train_mem_cpu_alloc_delta': 716293, 'train_mem_gpu_alloc_delta': 805881344, 'train_mem_cpu_peaked_delta': 97464093, 'train_mem_gpu_peaked_delta': 6540903424})"
            ]
          },
          "metadata": {
            "tags": []
          },
          "execution_count": 11
        }
      ]
    },
    {
      "cell_type": "markdown",
      "metadata": {
        "id": "PYConwLvqzHy"
      },
      "source": [
        "## Validation performance"
      ]
    },
    {
      "cell_type": "code",
      "metadata": {
        "id": "UX8DWjgzn-8M",
        "colab": {
          "base_uri": "https://localhost:8080/",
          "height": 132
        },
        "outputId": "ea22ee9e-5bee-41b8-eeec-e3934a54a8af"
      },
      "source": [
        "from sklearn.metrics import accuracy_score, precision_recall_fscore_support\r\n",
        "eval_res = trainer.evaluate()"
      ],
      "execution_count": 12,
      "outputs": [
        {
          "output_type": "display_data",
          "data": {
            "text/html": [
              "\n",
              "    <div>\n",
              "        <style>\n",
              "            /* Turns off some styling */\n",
              "            progress {\n",
              "                /* gets rid of default border in Firefox and Opera. */\n",
              "                border: none;\n",
              "                /* Needs to be in here for Safari polyfill so background images work as expected. */\n",
              "                background-size: auto;\n",
              "            }\n",
              "        </style>\n",
              "      \n",
              "      <progress value='116' max='116' style='width:300px; height:20px; vertical-align: middle;'></progress>\n",
              "      [116/116 02:29]\n",
              "    </div>\n",
              "    "
            ],
            "text/plain": [
              "<IPython.core.display.HTML object>"
            ]
          },
          "metadata": {
            "tags": []
          }
        },
        {
          "output_type": "stream",
          "text": [
            "Trainer is attempting to log a value of \"[0.99159664 0.99723332 0.99723183 0.99543379 0.99298519 0.99641577]\" of type <class 'numpy.ndarray'> for key \"eval/f1\" as a scalar. This invocation of Tensorboard's writer.add_scalar() is incorrect so we dropped this attribute.\n",
            "Trainer is attempting to log a value of \"[0.9876652  0.99876847 0.99792244 0.99316629 0.9984326  0.99681275]\" of type <class 'numpy.ndarray'> for key \"eval/precision\" as a scalar. This invocation of Tensorboard's writer.add_scalar() is incorrect so we dropped this attribute.\n",
            "Trainer is attempting to log a value of \"[0.9955595  0.99570289 0.99654219 0.99771167 0.9875969  0.99601911]\" of type <class 'numpy.ndarray'> for key \"eval/recall\" as a scalar. This invocation of Tensorboard's writer.add_scalar() is incorrect so we dropped this attribute.\n",
            "Trainer is attempting to log a value of \"[1126 1629 1446 1311  645 1256]\" of type <class 'numpy.ndarray'> for key \"eval/n\" as a scalar. This invocation of Tensorboard's writer.add_scalar() is incorrect so we dropped this attribute.\n"
          ],
          "name": "stderr"
        }
      ]
    },
    {
      "cell_type": "code",
      "metadata": {
        "id": "cSSmTbf4i6fe"
      },
      "source": [
        "evaluated = pd.DataFrame()\r\n",
        "evaluated[\"label\"] = [v for k,v in label_dict.items()]\r\n",
        "evaluated[\"class\"] = [k for k,v in label_dict.items()]\r\n",
        "evaluated[\"f1\"] = eval_res[\"eval_f1\"]\r\n",
        "evaluated[\"precision\"] = eval_res[\"eval_precision\"]\r\n",
        "evaluated[\"recall\"] = eval_res[\"eval_recall\"]\r\n",
        "evaluated[\"n\"] = eval_res[\"eval_n\"]"
      ],
      "execution_count": 13,
      "outputs": []
    },
    {
      "cell_type": "code",
      "metadata": {
        "id": "3ZopkEiIoD9r",
        "colab": {
          "base_uri": "https://localhost:8080/",
          "height": 237
        },
        "outputId": "78742ca8-f5f7-4d07-d42e-c392013b7f98"
      },
      "source": [
        "evaluated.sort_values(by=\"f1\", ascending=False)"
      ],
      "execution_count": 14,
      "outputs": [
        {
          "output_type": "execute_result",
          "data": {
            "text/html": [
              "<div>\n",
              "<style scoped>\n",
              "    .dataframe tbody tr th:only-of-type {\n",
              "        vertical-align: middle;\n",
              "    }\n",
              "\n",
              "    .dataframe tbody tr th {\n",
              "        vertical-align: top;\n",
              "    }\n",
              "\n",
              "    .dataframe thead th {\n",
              "        text-align: right;\n",
              "    }\n",
              "</style>\n",
              "<table border=\"1\" class=\"dataframe\">\n",
              "  <thead>\n",
              "    <tr style=\"text-align: right;\">\n",
              "      <th></th>\n",
              "      <th>label</th>\n",
              "      <th>class</th>\n",
              "      <th>f1</th>\n",
              "      <th>precision</th>\n",
              "      <th>recall</th>\n",
              "      <th>n</th>\n",
              "    </tr>\n",
              "  </thead>\n",
              "  <tbody>\n",
              "    <tr>\n",
              "      <th>1</th>\n",
              "      <td>1</td>\n",
              "      <td>Linke</td>\n",
              "      <td>0.997233</td>\n",
              "      <td>0.998768</td>\n",
              "      <td>0.995703</td>\n",
              "      <td>1629</td>\n",
              "    </tr>\n",
              "    <tr>\n",
              "      <th>2</th>\n",
              "      <td>2</td>\n",
              "      <td>SPD</td>\n",
              "      <td>0.997232</td>\n",
              "      <td>0.997922</td>\n",
              "      <td>0.996542</td>\n",
              "      <td>1446</td>\n",
              "    </tr>\n",
              "    <tr>\n",
              "      <th>5</th>\n",
              "      <td>5</td>\n",
              "      <td>FDP</td>\n",
              "      <td>0.996416</td>\n",
              "      <td>0.996813</td>\n",
              "      <td>0.996019</td>\n",
              "      <td>1256</td>\n",
              "    </tr>\n",
              "    <tr>\n",
              "      <th>3</th>\n",
              "      <td>3</td>\n",
              "      <td>Greens</td>\n",
              "      <td>0.995434</td>\n",
              "      <td>0.993166</td>\n",
              "      <td>0.997712</td>\n",
              "      <td>1311</td>\n",
              "    </tr>\n",
              "    <tr>\n",
              "      <th>4</th>\n",
              "      <td>4</td>\n",
              "      <td>AfD</td>\n",
              "      <td>0.992985</td>\n",
              "      <td>0.998433</td>\n",
              "      <td>0.987597</td>\n",
              "      <td>645</td>\n",
              "    </tr>\n",
              "    <tr>\n",
              "      <th>0</th>\n",
              "      <td>0</td>\n",
              "      <td>Union</td>\n",
              "      <td>0.991597</td>\n",
              "      <td>0.987665</td>\n",
              "      <td>0.995560</td>\n",
              "      <td>1126</td>\n",
              "    </tr>\n",
              "  </tbody>\n",
              "</table>\n",
              "</div>"
            ],
            "text/plain": [
              "   label   class        f1  precision    recall     n\n",
              "1      1   Linke  0.997233   0.998768  0.995703  1629\n",
              "2      2     SPD  0.997232   0.997922  0.996542  1446\n",
              "5      5     FDP  0.996416   0.996813  0.996019  1256\n",
              "3      3  Greens  0.995434   0.993166  0.997712  1311\n",
              "4      4     AfD  0.992985   0.998433  0.987597   645\n",
              "0      0   Union  0.991597   0.987665  0.995560  1126"
            ]
          },
          "metadata": {
            "tags": []
          },
          "execution_count": 14
        }
      ]
    },
    {
      "cell_type": "code",
      "metadata": {
        "id": "vX5e0NH9oGKx"
      },
      "source": [
        "trainer.save_model(os.path.join(\"trained\", \"distilbert_cased\", \"results\"))"
      ],
      "execution_count": 15,
      "outputs": []
    },
    {
      "cell_type": "markdown",
      "metadata": {
        "id": "0i2ZSDllqqdW"
      },
      "source": [
        "## Test set performance"
      ]
    },
    {
      "cell_type": "code",
      "metadata": {
        "colab": {
          "base_uri": "https://localhost:8080/",
          "height": 37
        },
        "id": "cH-y8XZHjyAE",
        "outputId": "7c57031f-7111-45cb-d929-8b67128caeab"
      },
      "source": [
        "eval_res = trainer.predict(test_dataset)"
      ],
      "execution_count": 16,
      "outputs": [
        {
          "output_type": "display_data",
          "data": {
            "text/html": [
              "\n",
              "    <div>\n",
              "        <style>\n",
              "            /* Turns off some styling */\n",
              "            progress {\n",
              "                /* gets rid of default border in Firefox and Opera. */\n",
              "                border: none;\n",
              "                /* Needs to be in here for Safari polyfill so background images work as expected. */\n",
              "                background-size: auto;\n",
              "            }\n",
              "        </style>\n",
              "      \n",
              "      <progress value='261' max='116' style='width:300px; height:20px; vertical-align: middle;'></progress>\n",
              "      [116/116 05:39]\n",
              "    </div>\n",
              "    "
            ],
            "text/plain": [
              "<IPython.core.display.HTML object>"
            ]
          },
          "metadata": {
            "tags": []
          }
        }
      ]
    },
    {
      "cell_type": "code",
      "metadata": {
        "colab": {
          "base_uri": "https://localhost:8080/",
          "height": 237
        },
        "id": "sOFMYGIvp4Ic",
        "outputId": "95f4d167-f977-4234-baef-b953818ed22f"
      },
      "source": [
        "evaluated = pd.DataFrame()\r\n",
        "evaluated[\"label\"] = [v for k,v in label_dict.items()]\r\n",
        "evaluated[\"class\"] = [k for k,v in label_dict.items()]\r\n",
        "evaluated[\"f1\"] = eval_res.metrics[\"eval_f1\"]\r\n",
        "evaluated[\"precision\"] = eval_res.metrics[\"eval_precision\"]\r\n",
        "evaluated[\"recall\"] = eval_res.metrics[\"eval_recall\"]\r\n",
        "evaluated[\"n\"] = eval_res.metrics[\"eval_n\"]\r\n",
        "\r\n",
        "evaluated.sort_values(by=\"f1\", ascending=False)"
      ],
      "execution_count": 17,
      "outputs": [
        {
          "output_type": "execute_result",
          "data": {
            "text/html": [
              "<div>\n",
              "<style scoped>\n",
              "    .dataframe tbody tr th:only-of-type {\n",
              "        vertical-align: middle;\n",
              "    }\n",
              "\n",
              "    .dataframe tbody tr th {\n",
              "        vertical-align: top;\n",
              "    }\n",
              "\n",
              "    .dataframe thead th {\n",
              "        text-align: right;\n",
              "    }\n",
              "</style>\n",
              "<table border=\"1\" class=\"dataframe\">\n",
              "  <thead>\n",
              "    <tr style=\"text-align: right;\">\n",
              "      <th></th>\n",
              "      <th>label</th>\n",
              "      <th>class</th>\n",
              "      <th>f1</th>\n",
              "      <th>precision</th>\n",
              "      <th>recall</th>\n",
              "      <th>n</th>\n",
              "    </tr>\n",
              "  </thead>\n",
              "  <tbody>\n",
              "    <tr>\n",
              "      <th>1</th>\n",
              "      <td>1</td>\n",
              "      <td>Linke</td>\n",
              "      <td>0.997547</td>\n",
              "      <td>0.997057</td>\n",
              "      <td>0.998036</td>\n",
              "      <td>2037</td>\n",
              "    </tr>\n",
              "    <tr>\n",
              "      <th>5</th>\n",
              "      <td>5</td>\n",
              "      <td>FDP</td>\n",
              "      <td>0.997452</td>\n",
              "      <td>0.997452</td>\n",
              "      <td>0.997452</td>\n",
              "      <td>1570</td>\n",
              "    </tr>\n",
              "    <tr>\n",
              "      <th>2</th>\n",
              "      <td>2</td>\n",
              "      <td>SPD</td>\n",
              "      <td>0.997231</td>\n",
              "      <td>0.997784</td>\n",
              "      <td>0.996680</td>\n",
              "      <td>1807</td>\n",
              "    </tr>\n",
              "    <tr>\n",
              "      <th>3</th>\n",
              "      <td>3</td>\n",
              "      <td>Greens</td>\n",
              "      <td>0.996333</td>\n",
              "      <td>0.997552</td>\n",
              "      <td>0.995116</td>\n",
              "      <td>1638</td>\n",
              "    </tr>\n",
              "    <tr>\n",
              "      <th>4</th>\n",
              "      <td>4</td>\n",
              "      <td>AfD</td>\n",
              "      <td>0.992537</td>\n",
              "      <td>0.996255</td>\n",
              "      <td>0.988848</td>\n",
              "      <td>807</td>\n",
              "    </tr>\n",
              "    <tr>\n",
              "      <th>0</th>\n",
              "      <td>0</td>\n",
              "      <td>Union</td>\n",
              "      <td>0.992215</td>\n",
              "      <td>0.988717</td>\n",
              "      <td>0.995739</td>\n",
              "      <td>1408</td>\n",
              "    </tr>\n",
              "  </tbody>\n",
              "</table>\n",
              "</div>"
            ],
            "text/plain": [
              "   label   class        f1  precision    recall     n\n",
              "1      1   Linke  0.997547   0.997057  0.998036  2037\n",
              "5      5     FDP  0.997452   0.997452  0.997452  1570\n",
              "2      2     SPD  0.997231   0.997784  0.996680  1807\n",
              "3      3  Greens  0.996333   0.997552  0.995116  1638\n",
              "4      4     AfD  0.992537   0.996255  0.988848   807\n",
              "0      0   Union  0.992215   0.988717  0.995739  1408"
            ]
          },
          "metadata": {
            "tags": []
          },
          "execution_count": 17
        }
      ]
    }
  ]
}